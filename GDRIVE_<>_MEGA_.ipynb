{
  "nbformat": 4,
  "nbformat_minor": 0,
  "metadata": {
    "colab": {
      "name": "GDRIVE <> MEGA .ipynb",
      "provenance": [],
      "collapsed_sections": [],
      "include_colab_link": true
    },
    "kernelspec": {
      "name": "python3",
      "display_name": "Python 3"
    },
    "language_info": {
      "name": "python"
    }
  },
  "cells": [
    {
      "cell_type": "markdown",
      "metadata": {
        "id": "view-in-github",
        "colab_type": "text"
      },
      "source": [
        "<a href=\"https://colab.research.google.com/github/jakiya99/MEga-to-gdrive-transfer/blob/main/GDRIVE_%3C%3E_MEGA_.ipynb\" target=\"_parent\"><img src=\"https://colab.research.google.com/assets/colab-badge.svg\" alt=\"Open In Colab\"/></a>"
      ]
    },
    {
      "cell_type": "markdown",
      "metadata": {
        "id": "cJzY3hfpLwPj"
      },
      "source": [
        "\n",
        "# ⎝乡 <font color='greenr'>GDRIVE </font> to  <font color='lightblue'>MEGA</font>  </font>  BY'-  <font color='red'> ツ  jคK¡ץA   ⎝⎝乡 </font>\n",
        "\n"
      ]
    },
    {
      "cell_type": "markdown",
      "metadata": {
        "id": "3rEItGYsNqvm"
      },
      "source": [
        "\n",
        "\n",
        "\n",
        "# <font color='pink'>**Extra**  </font> \n",
        "#<font color='red'>*RUNTIME DisconectedError Fix=*https://github.com/jakiya99/prevent-colab-disconnecting\n",
        "\n",
        "function ConnectButton() \n",
        "{\n",
        " console.log(\"Working\");\n",
        " document.queryselector(\"#connect\").click()\n",
        "}\n",
        "\n",
        "setInterval(ConnectButton,6000);\n",
        "\n"
      ]
    },
    {
      "cell_type": "markdown",
      "metadata": {
        "id": "J52UcRvTx-pA"
      },
      "source": [
        "# 1.Install  <img src='https://biplobsd.github.io/RLabClone/img/title_rclonelab.svg' height=\"45\" alt=\"RcloneLab\"/>"
      ]
    },
    {
      "cell_type": "code",
      "metadata": {
        "id": "967x0RwzyWCb"
      },
      "source": [
        "!wget https://downloads.rclone.org/v1.52.1/rclone-v1.52.1-linux-amd64.deb\n",
        "!apt install ./rclone-v1.52.1-linux-amd64.deb"
      ],
      "execution_count": null,
      "outputs": []
    },
    {
      "cell_type": "markdown",
      "metadata": {
        "id": "jgKFdBt6xlJ8"
      },
      "source": [
        "Gdrive mount"
      ]
    },
    {
      "cell_type": "code",
      "metadata": {
        "id": "nJG-49KYxi_R"
      },
      "source": [
        "from google.colab import drive\n",
        "drive.mount('/content/drive')"
      ],
      "execution_count": null,
      "outputs": []
    },
    {
      "cell_type": "markdown",
      "metadata": {
        "id": "IMgeaazpytxI"
      },
      "source": [
        "# 2.Rclone </font> <font color='orange'>Authenticate  </font> <img src='https://biplobsd.github.io/RLabClone/img/title_rclonelab.svg' height=\"45\" alt=\"RcloneLab\"/>\n"
      ]
    },
    {
      "cell_type": "code",
      "metadata": {
        "id": "T3Q3NrC8wI7D"
      },
      "source": [
        "!rclone config"
      ],
      "execution_count": null,
      "outputs": []
    },
    {
      "cell_type": "markdown",
      "metadata": {
        "id": "eqVwKRRQycuK"
      },
      "source": [
        "# 3.Rclone<font color='yellow'>  Mount MEGA\n",
        "\n",
        "\n"
      ]
    },
    {
      "cell_type": "code",
      "metadata": {
        "id": "UuAga4Edymzm"
      },
      "source": [
        "!mkdir mega\n",
        "!nohup rclone --vfs-cache-mode writes mount mega: ./mega &    "
      ],
      "execution_count": null,
      "outputs": []
    },
    {
      "cell_type": "code",
      "metadata": {
        "id": "Fil_bHuAD8S3"
      },
      "source": [
        "!ls ./mega    #after sucessfully mounted onedrive then show your onedrive folders and files"
      ],
      "execution_count": null,
      "outputs": []
    },
    {
      "cell_type": "markdown",
      "metadata": {
        "id": "lS5rCnbXzG78"
      },
      "source": [
        "# **4.Transfer**"
      ]
    },
    {
      "cell_type": "code",
      "metadata": {
        "id": "dIgfcz89xsRZ"
      },
      "source": [
        "\n",
        "!rsync -ah --progress #source path/ destinationpath/       ex= !rsync -ah --progress mega/123/ gdrive/downloads \n"
      ],
      "execution_count": null,
      "outputs": []
    }
  ]
}